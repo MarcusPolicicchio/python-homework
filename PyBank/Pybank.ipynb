{
 "cells": [
  {
   "cell_type": "code",
   "execution_count": 1,
   "id": "8533da1b-68f1-4a8d-b486-33f7512282b9",
   "metadata": {},
   "outputs": [],
   "source": [
    "path = \"C:/Users/Marcus/Desktop/FinTech/Unit 2 Assignment/budget_data.csv\""
   ]
  },
  {
   "cell_type": "code",
   "execution_count": 2,
   "id": "20f44283-73f6-4f05-86ab-375ef0fd76c3",
   "metadata": {},
   "outputs": [],
   "source": [
    "import pandas as pd"
   ]
  },
  {
   "cell_type": "code",
   "execution_count": 3,
   "id": "faaceb91-5ad9-4fa9-b986-4d43d22e5296",
   "metadata": {},
   "outputs": [],
   "source": [
    "df = pd.read_csv(path)"
   ]
  },
  {
   "cell_type": "code",
   "execution_count": 4,
   "id": "7a40e688-b58d-48a5-a798-dc93e1a84cd2",
   "metadata": {},
   "outputs": [],
   "source": [
    "# Total amount of months in dataset\n",
    "num_months = len(df.index) # Retrieves number of rows in dataset"
   ]
  },
  {
   "cell_type": "code",
   "execution_count": 5,
   "id": "26b88e1f-646b-491b-9231-8a649c65fb5b",
   "metadata": {},
   "outputs": [],
   "source": [
    "# Total amount of Profit/Losses over the entire period\n",
    "total = 0\n",
    "for x in range (0,num_months): # Loops through each row in provided dataset\n",
    "    total = total + df.iat[x,1] # Retrieves profit/loss value of each row and adds it to a total"
   ]
  },
  {
   "cell_type": "code",
   "execution_count": 6,
   "id": "e47c3c24-3433-42f3-b574-a8aa0f4cb17e",
   "metadata": {},
   "outputs": [],
   "source": [
    "# The average of the changes in Profit/Losses over the entire period & Greatest Increase/Decrease in profits\n",
    "total_average = 0\n",
    "increase_max = 0\n",
    "increase_max_month = \"\"\n",
    "decrease_max = 0\n",
    "decrease_max_month = \"\"\n",
    "for i in range (0,(num_months-1)): # Loops through each row in provided dataset, excluding last row\n",
    "    num1 = df.iat[i,1]\n",
    "    num2 = df.iat[(i+1),1]\n",
    "    change = num2 - num1 # Calculates the change of value through the two compared months\n",
    "    total_average = total_average + change #\n",
    "    if change > increase_max: # Determines which month had the greatest increase in profits\n",
    "        increase_max = change\n",
    "        increase_max_month = df.iat[(i+1),0]\n",
    "    if change < decrease_max: # Determines which month had the greatest decrease in profits\n",
    "        decrease_max = change\n",
    "        decrease_max_month = df.iat[(i+1),0]  \n",
    "avg_change_result = total_average/(num_months-1) # Calculates the total average change of profits/losses over provided period\n"
   ]
  },
  {
   "cell_type": "code",
   "execution_count": 7,
   "id": "d51f6255-7fc9-44d8-b89e-7890dd6a555a",
   "metadata": {},
   "outputs": [
    {
     "name": "stdout",
     "output_type": "stream",
     "text": [
      "Financial Analysis\n",
      "----------------------------\n",
      "Total Months: 86\n",
      "Total: $38382578\n",
      "Average Change: $-2315.1176470588234\n",
      "Greatest Increase in Profits: Feb-2012 ($1926159)\n",
      "Greatest Decrease in Profits: Sep-2013 ($-2196167)\n"
     ]
    }
   ],
   "source": [
    "print(f\"Financial Analysis\\n----------------------------\\nTotal Months: {num_months}\\nTotal: ${total}\\nAverage Change: ${avg_change_result}\\nGreatest Increase in Profits: {increase_max_month} (${increase_max})\\nGreatest Decrease in Profits: {decrease_max_month} (${decrease_max})\")"
   ]
  },
  {
   "cell_type": "code",
   "execution_count": 8,
   "id": "da21a5a3-6ab8-4e98-977f-b6b46529b2d0",
   "metadata": {},
   "outputs": [],
   "source": [
    "with open('finalscript.txt', 'w') as f: # Creates text file in script directory and writes the results\n",
    "    f.write(f\"Financial Analysis\\n----------------------------\\nTotal Months: {num_months}\\nTotal: ${total}\\nAverage Change: ${avg_change_result}\\nGreatest Increase in Profits: {increase_max_month} (${increase_max})\\nGreatest Decrease in Profits: {decrease_max_month} (${decrease_max})\")"
   ]
  },
  {
   "cell_type": "code",
   "execution_count": null,
   "id": "50ae20d1-e216-4083-89e9-fee7dbca3889",
   "metadata": {},
   "outputs": [],
   "source": []
  }
 ],
 "metadata": {
  "kernelspec": {
   "display_name": "Python 3 (ipykernel)",
   "language": "python",
   "name": "python3"
  },
  "language_info": {
   "codemirror_mode": {
    "name": "ipython",
    "version": 3
   },
   "file_extension": ".py",
   "mimetype": "text/x-python",
   "name": "python",
   "nbconvert_exporter": "python",
   "pygments_lexer": "ipython3",
   "version": "3.7.11"
  }
 },
 "nbformat": 4,
 "nbformat_minor": 5
}
